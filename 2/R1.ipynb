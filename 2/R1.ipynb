{
 "cells": [
  {
   "cell_type": "code",
   "execution_count": null,
   "id": "ad1ecea8",
   "metadata": {
    "vscode": {
     "languageId": "r"
    }
   },
   "outputs": [
    {
     "name": "stdout",
     "output_type": "stream",
     "text": [
      "       [,1]\n",
      "x1 1.506551\n",
      "x2 1.997696\n",
      "              x1            x2\n",
      "x1  9.866491e-05 -4.081657e-07\n",
      "x2 -4.081657e-07  1.005248e-04\n",
      "              x1            x2\n",
      "x1  9.866491e-05 -4.081657e-07\n",
      "x2 -4.081657e-07  1.005248e-04\n",
      "[1] 0.8629734\n",
      "[1] 0.8629734\n"
     ]
    }
   ],
   "source": [
    "\n",
    "\n",
    "data <- read.csv(\"datas/mmse_kadai1.csv\", header=FALSE,col.names = c(\"x1\",\"x2\",\"y\"))\n",
    "x <- as.matrix(data[,c(\"x1\",\"x2\")])\n",
    "y <- as.matrix(data[,\"y\"])\n",
    "\n",
    "regression_simple <- function(x, y){\n",
    "\n",
    "    theta_hat <- solve(t(x) %*% x) %*% t(x) %*% y\n",
    "    sigma2_hat <- sum((y - x %*% theta_hat)^2) / (nrow(x) - ncol(x))\n",
    "    err_cov_mat <- sigma2_hat * solve(t(x) %*% x)\n",
    "    det_coef <- sum((mean(y) - x %*% theta_hat)^2) / sum((y - mean(y))^2)\n",
    "    return(list(theta_hat = theta_hat, err_cov_mat = err_cov_mat, det_coef = det_coef))\n",
    "}\n",
    "\n",
    "\n",
    "exp1 <- function (x, y,n){\n",
    "    x <- x[1:n,]\n",
    "    y <- y[1:n,]\n",
    "    result <- regression_simple(x, y)\n",
    "    theta_hat <- result$theta_hat\n",
    "    err_cov_mat <- result$err_cov_mat    \n",
    "    det_coef <- result$det_coef\n",
    "    return(list(theta_hat = theta_hat, err_cov_mat = err_cov_mat, det_coef = det_coef))\n",
    "}\n",
    "N_max <- nrow(x)\n",
    "print (exp1(x, y, N_max)$theta_hat)\n",
    "print (exp1(x, y, N_max)$err_cov_mat)\n",
    "plot_exp1 <- function(x, y){\n",
    "    ns <- c(2,4,8,16,32,64,128,256,512,1024,2048,4096,8192)\n",
    "    #ˆθN の各要素が収束していくことを片対数グラフでプロット,1つの図にまとめる\n",
    "    theta_hats <- matrix(0, nrow=length(ns), ncol=ncol(x))\n",
    "    for (i in 1:length(ns)){\n",
    "        n <- ns[i]\n",
    "        result <- exp1(x, y, n)\n",
    "        theta_hats[i, ] <- as.vector(result$theta_hat)  \n",
    "    # matplot(ns, theta_hats, type=\"b\", log=\"x\", xlab=\"n\", ylab=\"theta_hat\", main=\"Convergence of theta_hat\")\n",
    "    png(\"graphs/task1_1.png\")\n",
    "    matplot(ns, theta_hats, type=\"b\", log=\"x\", xlab=\"n\", ylab=\"theta_hat\", main=\"Convergence of theta_hat\")\n",
    "    dev.off()\n",
    "    }\n",
    "}\n",
    "plot_exp1(x, y)\n",
    "print(exp1(x, y, N_max)$det_coef)\n"
   ]
  },
  {
   "cell_type": "code",
   "execution_count": null,
   "id": "323d8684",
   "metadata": {
    "vscode": {
     "languageId": "r"
    }
   },
   "outputs": [],
   "source": [
    "data <- read.csv(\"datas/mmse_kadai1.csv\", header=FALSE,col.names = c(\"x1\",\"y\"))\n",
    "x0 <- rep(1, nrow(data))\n",
    "x1 <- as.matrix(data[,c(\"x1\")])\n",
    "x2 <- x1^2\n",
    "x3 <- x1^3\n",
    "x <- cbind(x0, x1, x2, x3)\n",
    "y <- as.matrix(data[,\"y\"])\n",
    "\n",
    "\n"
   ]
  }
 ],
 "metadata": {
  "kernelspec": {
   "display_name": "R",
   "language": "R",
   "name": "ir"
  },
  "language_info": {
   "codemirror_mode": "r",
   "file_extension": ".r",
   "mimetype": "text/x-r-source",
   "name": "R",
   "pygments_lexer": "r",
   "version": "4.5.1"
  }
 },
 "nbformat": 4,
 "nbformat_minor": 5
}
