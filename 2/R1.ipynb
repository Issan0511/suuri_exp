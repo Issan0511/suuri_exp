{
 "cells": [
  {
   "cell_type": "code",
   "execution_count": 53,
   "id": "ad1ecea8",
   "metadata": {
    "vscode": {
     "languageId": "r"
    }
   },
   "outputs": [
    {
     "name": "stdout",
     "output_type": "stream",
     "text": [
      "       [,1]\n",
      "x1 1.506551\n",
      "x2 1.997696\n",
      "              x1            x2\n",
      "x1  9.866491e-05 -4.081657e-07\n",
      "x2 -4.081657e-07  1.005248e-04\n",
      "              x1            x2\n",
      "x1  9.866491e-05 -4.081657e-07\n",
      "x2 -4.081657e-07  1.005248e-04\n",
      "[1] 0.8629734\n",
      "[1] 0.8629734\n"
     ]
    }
   ],
   "source": [
    "\n",
    "\n",
    "data <- read.csv(\"datas/mmse_kadai1.csv\", header=FALSE,col.names = c(\"x1\",\"x2\",\"y\"))\n",
    "x <- as.matrix(data[,c(\"x1\",\"x2\")])\n",
    "y <- as.matrix(data[,\"y\"])\n",
    "\n",
    "regression_simple <- function(x, y){\n",
    "\n",
    "    theta_hat <- solve(t(x) %*% x) %*% t(x) %*% y\n",
    "    sigma2_hat <- sum((y - x %*% theta_hat)^2) / (nrow(x) - ncol(x))\n",
    "    err_cov_mat <- sigma2_hat * solve(t(x) %*% x)\n",
    "    det_coef <- sum((mean(y) - x %*% theta_hat)^2) / sum((y - mean(y))^2)\n",
    "    return(list(theta_hat = theta_hat, err_cov_mat = err_cov_mat, det_coef = det_coef))\n",
    "}\n",
    "\n",
    "\n",
    "exp1 <- function (x, y,n){\n",
    "    x <- x[1:n,]\n",
    "    y <- y[1:n,]\n",
    "    result <- regression_simple(x, y)\n",
    "    theta_hat <- result$theta_hat\n",
    "    err_cov_mat <- result$err_cov_mat    \n",
    "    det_coef <- result$det_coef\n",
    "    return(list(theta_hat = theta_hat, err_cov_mat = err_cov_mat, det_coef = det_coef))\n",
    "}\n",
    "N_max <- nrow(x)\n",
    "print (exp1(x, y, N_max)$theta_hat)\n",
    "print (exp1(x, y, N_max)$err_cov_mat)\n",
    "plot_exp1 <- function(x, y){\n",
    "    ns <- c(2,4,8,16,32,64,128,256,512,1024,2048,4096,8192)\n",
    "    #ˆθN の各要素が収束していくことを片対数グラフでプロット,1つの図にまとめる\n",
    "    theta_hats <- matrix(0, nrow=length(ns), ncol=ncol(x))\n",
    "    for (i in 1:length(ns)){\n",
    "        n <- ns[i]\n",
    "        result <- exp1(x, y, n)\n",
    "        theta_hats[i, ] <- as.vector(result$theta_hat)  \n",
    "    # matplot(ns, theta_hats, type=\"b\", log=\"x\", xlab=\"n\", ylab=\"theta_hat\", main=\"Convergence of theta_hat\")\n",
    "    png(\"graphs/task1.png\")\n",
    "    matplot(ns, theta_hats, type=\"b\", log=\"x\", xlab=\"n\", ylab=\"theta_hat\", main=\"Convergence of theta_hat\")\n",
    "    dev.off()\n",
    "    }\n",
    "}\n",
    "plot_exp1(x, y)\n",
    "print(exp1(x, y, N_max)$det_coef)"
   ]
  },
  {
   "cell_type": "code",
   "execution_count": 54,
   "id": "323d8684",
   "metadata": {
    "vscode": {
     "languageId": "r"
    }
   },
   "outputs": [
    {
     "name": "stdout",
     "output_type": "stream",
     "text": [
      "          [,1]\n",
      "x0 -0.50902942\n",
      "    1.97586067\n",
      "    0.19774405\n",
      "   -0.09866691\n",
      "              x0                                          \n",
      "x0  2.023442e-03 -1.186497e-05 -1.348312e-04  3.971165e-07\n",
      "   -1.186497e-05  6.753015e-04 -1.898545e-07 -3.794719e-05\n",
      "   -1.348312e-04 -1.898545e-07  1.603910e-05  6.351820e-08\n",
      "    3.971165e-07 -3.794719e-05  6.351820e-08  2.528711e-06\n",
      "[1] 0.461855\n",
      "              x0                                          \n",
      "x0  2.023442e-03 -1.186497e-05 -1.348312e-04  3.971165e-07\n",
      "   -1.186497e-05  6.753015e-04 -1.898545e-07 -3.794719e-05\n",
      "   -1.348312e-04 -1.898545e-07  1.603910e-05  6.351820e-08\n",
      "    3.971165e-07 -3.794719e-05  6.351820e-08  2.528711e-06\n",
      "[1] 0.461855\n"
     ]
    },
    {
     "data": {
      "text/html": [
       "<strong>pdf:</strong> 2"
      ],
      "text/latex": [
       "\\textbf{pdf:} 2"
      ],
      "text/markdown": [
       "**pdf:** 2"
      ],
      "text/plain": [
       "pdf \n",
       "  2 "
      ]
     },
     "metadata": {},
     "output_type": "display_data"
    }
   ],
   "source": [
    "data <- read.csv(\"datas/mmse_kadai2.csv\", header=FALSE,col.names = c(\"x1\",\"y\"))\n",
    "x0 <- rep(1, nrow(data))\n",
    "x1 <- as.matrix(data[,c(\"x1\")])\n",
    "x2 <- x1^2\n",
    "x3 <- x1^3\n",
    "x <- cbind(x0, x1, x2, x3)\n",
    "y <- as.matrix(data[,\"y\"])\n",
    "\n",
    "exp2 <- function(x, y, n){\n",
    "    # サンプルサイズ n に制限\n",
    "    x <- x[1:n,]\n",
    "    y <- y[1:n,]\n",
    "\n",
    "    \n",
    "    result <- regression_simple(x, y)\n",
    "    theta_hat <- result$theta_hat\n",
    "    err_cov_mat <- result$err_cov_mat    \n",
    "    det_coef <- result$det_coef\n",
    "    return(list(theta_hat = theta_hat, err_cov_mat = err_cov_mat, det_coef = det_coef))\n",
    "}\n",
    "\n",
    "plot_exp2 <- function(x, y){\n",
    "    ns <- c(4,8,16,32,64,128,256,512,1024,2048,4096,8192)\n",
    "    theta_hats <- matrix(0, nrow=length(ns), ncol=ncol(x))\n",
    "    for (i in 1:length(ns)){\n",
    "        n <- ns[i]\n",
    "        result <- exp2(x, y, n)\n",
    "        theta_hats[i, ] <- as.vector(result$theta_hat)\n",
    "    }\n",
    "    png(\"graphs/task2.png\")\n",
    "    matplot(ns, theta_hats, type=\"b\", log=\"x\", xlab=\"n\", ylab=\"theta_hat\", main=\"Convergence of theta_hat (exp2)\")\n",
    "    dev.off()\n",
    "}\n",
    "\n",
    "N_max <- nrow(x)\n",
    "print(exp2(x, y, N_max)$theta_hat)\n",
    "print(exp2(x, y, N_max)$err_cov_mat)\n",
    "print(exp2(x, y, N_max)$det_coef)\n",
    "plot_exp2(x, y)"
   ]
  },
  {
   "cell_type": "code",
   "execution_count": 55,
   "id": "8fefc33b",
   "metadata": {
    "vscode": {
     "languageId": "r"
    }
   },
   "outputs": [
    {
     "name": "stdout",
     "output_type": "stream",
     "text": [
      "       [,1]\n",
      "x1 2.373074\n",
      "x2 1.537311\n",
      "             x1           x2\n",
      "x1  9.234588215 -0.003642121\n",
      "x2 -0.003642121  9.264075136\n",
      "[1] 0.0002841468\n",
      "             x1           x2\n",
      "x1  9.234588215 -0.003642121\n",
      "x2 -0.003642121  9.264075136\n",
      "[1] 0.0002841468\n"
     ]
    },
    {
     "data": {
      "text/html": [
       "<strong>pdf:</strong> 2"
      ],
      "text/latex": [
       "\\textbf{pdf:} 2"
      ],
      "text/markdown": [
       "**pdf:** 2"
      ],
      "text/plain": [
       "pdf \n",
       "  2 "
      ]
     },
     "metadata": {},
     "output_type": "display_data"
    }
   ],
   "source": [
    "# ==== exp3: mmse_kadai3.csv 用 ====\n",
    "# データ読込（x1, y）\n",
    "data3 <- read.csv(\"datas/mmse_kadai3.csv\", header = FALSE, col.names = c(\"x1\",\"x2\",\"y\"))\n",
    "\n",
    "# 特徴量設計: x1,x2,y\n",
    "x <- as.matrix(data3[,c(\"x1\",\"x2\")])\n",
    "y <- as.matrix(data3[,\"y\"])\n",
    "\n",
    "# 回帰器（exp2と同一ロジック）\n",
    "exp3 <- function(x, y, n){\n",
    "    x <- x[1:n, , drop=FALSE]\n",
    "    y <- y[1:n, , drop=FALSE]\n",
    "\n",
    "    result <- regression_simple(x, y)\n",
    "    theta_hat <- result$theta_hat\n",
    "    err_cov_mat <- result$err_cov_mat    \n",
    "    det_coef <- result$det_coef\n",
    "\n",
    "    list(theta_hat = theta_hat, err_cov_mat = err_cov_mat, det_coef = det_coef)\n",
    "}\n",
    "\n",
    "# 収束プロット\n",
    "plot_exp3 <- function(x, y){\n",
    "    ns <- c(2,4,8,16,32,64,128,256,512,1024,2048,4096,8192)\n",
    "    ns <- ns[ns <= nrow(x)]  # データ数を超えないように制限\n",
    "    theta_hats <- matrix(0, nrow=length(ns), ncol=ncol(x))\n",
    "    for (i in seq_along(ns)){\n",
    "        n <- ns[i]\n",
    "        res <- exp3(x, y, n)\n",
    "        theta_hats[i, ] <- as.vector(res$theta_hat)\n",
    "    }\n",
    "    dir.create(\"graphs\", showWarnings = FALSE)\n",
    "    png(\"graphs/task3.png\")\n",
    "    matplot(ns, theta_hats, type=\"b\", log=\"x\",\n",
    "            xlab=\"n\", ylab=\"theta_hat\",\n",
    "            main=\"Convergence of theta_hat (exp3)\")\n",
    "    dev.off()\n",
    "}\n",
    "\n",
    "# 実行例\n",
    "N_max <- nrow(x)\n",
    "print(exp3(x, y, N_max)$theta_hat)\n",
    "print(exp3(x, y, N_max)$err_cov_mat)\n",
    "print(exp3(x, y, N_max)$det_coef)\n",
    "plot_exp3(x, y)\n"
   ]
  },
  {
   "cell_type": "code",
   "execution_count": 56,
   "id": "60026f64",
   "metadata": {
    "vscode": {
     "languageId": "r"
    }
   },
   "outputs": [
    {
     "name": "stdout",
     "output_type": "stream",
     "text": [
      "         [,1]\n",
      "x0 -0.5777248\n",
      "    2.0968228\n",
      "   -0.3950467\n",
      "    0.5491249\n",
      "           x0                                 \n",
      "x0  0.1532437  -1.148751   2.296352  -1.338869\n",
      "   -1.1487510  11.458867 -25.752415  16.010391\n",
      "    2.2963524 -25.752415  61.720073 -39.966014\n",
      "   -1.3388695  16.010391 -39.966014  26.617392\n",
      "[1] 0.04084128\n",
      "           x0                                 \n",
      "x0  0.1532437  -1.148751   2.296352  -1.338869\n",
      "   -1.1487510  11.458867 -25.752415  16.010391\n",
      "    2.2963524 -25.752415  61.720073 -39.966014\n",
      "   -1.3388695  16.010391 -39.966014  26.617392\n",
      "[1] 0.04084128\n"
     ]
    }
   ],
   "source": [
    "data <- read.csv(\"datas/mmse_kadai4.csv\", header=FALSE, col.names = c(\"x1\",\"y\"))\n",
    "x0 <- rep(1, nrow(data))\n",
    "x1 <- as.matrix(data[,c(\"x1\")])\n",
    "x2 <- x1^2\n",
    "x3 <- x1^3\n",
    "x <- cbind(x0, x1, x2, x3)\n",
    "y <- as.matrix(data[,\"y\"])\n",
    "\n",
    "exp4 <- function(x, y, n){\n",
    "    # サンプルサイズ n に制限\n",
    "    x <- x[1:n, , drop=FALSE]\n",
    "    y <- y[1:n, , drop=FALSE]\n",
    "    result <- regression_simple(x, y)\n",
    "    list(\n",
    "        theta_hat = result$theta_hat,\n",
    "        err_cov_mat = result$err_cov_mat,\n",
    "        det_coef = result$det_coef\n",
    "    )\n",
    "}\n",
    "\n",
    "# plot_exp4 <- function(x, y){\n",
    "#     ns <- c(8,16,32,64,128,256,512,1024,2048,4096,8192)\n",
    "#     ns <- ns[ns <= nrow(x)]  # データ数を超えないように制限\n",
    "#     theta_hats <- matrix(0, nrow=length(ns), ncol=ncol(x))\n",
    "#     for (i in 1:length(ns)){\n",
    "#         n <- ns[i]\n",
    "#         result <- exp4(x, y, n)\n",
    "#         theta_hats[i, ] <- as.vector(result$theta_hat)\n",
    "#     }\n",
    "#     dir.create(\"graphs\", showWarnings = FALSE)\n",
    "#     png(\"graphs/task4.png\")\n",
    "#     matplot(ns, theta_hats, type=\"b\", log=\"x\", xlab=\"n\", ylab=\"theta_hat\",\n",
    "#             main=\"Convergence of theta_hat (exp4)\")\n",
    "#     dev.off()\n",
    "# }\n",
    "\n",
    "N_max <- nrow(x)\n",
    "print(exp4(x, y, N_max)$theta_hat)\n",
    "print(exp4(x, y, N_max)$err_cov_mat)\n",
    "print(exp4(x, y, N_max)$det_coef)\n",
    "# plot_exp4(x, y)"
   ]
  },
  {
   "cell_type": "code",
   "execution_count": 57,
   "id": "cf234aef",
   "metadata": {
    "vscode": {
     "languageId": "r"
    }
   },
   "outputs": [],
   "source": [
    "regression_multiple <- function(x, y, V = NULL, Q = NULL){\n",
    "    # x: m×1×nの3次元配列（m:特徴量数, 1:出力次元, n:サンプル数）\n",
    "    # y: n×1行列（またはベクトル）\n",
    "    if (is.null(ncol(y))) {\n",
    "        y <- as.matrix(y, ncol = 1)\n",
    "    }\n",
    "    if (length(dim(x)) != 3) {\n",
    "        stop(\"x must be a 3-dimensional array\")\n",
    "    }\n",
    "    n <- dim(x)[3]\n",
    "    m <- ncol(y)\n",
    "    p <- dim(x)[1] # 特徴量数\n",
    "    S <- matrix(0, p, p)\n",
    "    b <- matrix(0, p, 1)\n",
    "    T <- matrix(0, p, p)\n",
    "    if (is.null(V)) {\n",
    "        V <- diag(m)\n",
    "    }\n",
    "    if (is.null(Q)) {\n",
    "        Q <- solve(V)\n",
    "    }\n",
    "    # m=1（スカラー出力）の場合はQ,Vをスカラー化\n",
    "    if (m == 1) {\n",
    "        Q <- as.numeric(Q)\n",
    "        V <- as.numeric(V)\n",
    "        for (i in 1:n) {\n",
    "            xi <- as.matrix(x[,,i]) # (p,1)\n",
    "            S <- S + xi %*% t(xi) * Q\n",
    "            b <- b + xi * Q * y[i, 1]\n",
    "            T <- T + xi %*% t(xi) * V\n",
    "        }\n",
    "    } else {\n",
    "        for (i in 1:n) {\n",
    "            xi <- as.matrix(x[,,i])\n",
    "            yi <- matrix(y[i, ], nrow = m, ncol = 1)\n",
    "            S <- S + t(xi) %*% Q %*% xi\n",
    "            b <- b + t(xi) %*% Q %*% yi\n",
    "            T <- T + t(xi) %*% V %*% xi\n",
    "        }\n",
    "    }\n",
    "    theta_hat <- solve(S) %*% b\n",
    "    err_cov_mat <- solve(S) %*% T %*% solve(S)\n",
    "    return(list(theta_hat = theta_hat, err_cov_mat = err_cov_mat, S = S, b = b, T = T))\n",
    "}"
   ]
  },
  {
   "cell_type": "code",
   "execution_count": 58,
   "id": "ead2d458",
   "metadata": {
    "vscode": {
     "languageId": "r"
    }
   },
   "outputs": [
    {
     "name": "stdout",
     "output_type": "stream",
     "text": [
      "[1] \"OLS results:\"\n",
      "          [,1]\n",
      "[1,]  2.994567\n",
      "[2,] -2.068971\n",
      "          [,1]\n",
      "[1,]  2.994567\n",
      "[2,] -2.068971\n",
      "              [,1]          [,2]\n",
      "[1,]  0.0005762102 -0.0001504078\n",
      "[2,] -0.0001504078  0.0002968433\n",
      "              [,1]          [,2]\n",
      "[1,]  0.0005762102 -0.0001504078\n",
      "[2,] -0.0001504078  0.0002968433\n"
     ]
    },
    {
     "data": {
      "text/html": [
       "<strong>pdf:</strong> 2"
      ],
      "text/latex": [
       "\\textbf{pdf:} 2"
      ],
      "text/markdown": [
       "**pdf:** 2"
      ],
      "text/plain": [
       "pdf \n",
       "  2 "
      ]
     },
     "metadata": {},
     "output_type": "display_data"
    },
    {
     "name": "stdout",
     "output_type": "stream",
     "text": [
      "[1] \"WLS results:\"\n",
      "          [,1]\n",
      "[1,]  2.939084\n",
      "[2,] -1.986465\n",
      "          [,1]\n",
      "[1,]  2.939084\n",
      "[2,] -1.986465\n",
      "            [,1]        [,2]\n",
      "[1,]  0.23999299 -0.09665406\n",
      "[2,] -0.09665406  0.04991260\n",
      "            [,1]        [,2]\n",
      "[1,]  0.23999299 -0.09665406\n",
      "[2,] -0.09665406  0.04991260\n"
     ]
    },
    {
     "data": {
      "text/html": [
       "<strong>pdf:</strong> 2"
      ],
      "text/latex": [
       "\\textbf{pdf:} 2"
      ],
      "text/markdown": [
       "**pdf:** 2"
      ],
      "text/plain": [
       "pdf \n",
       "  2 "
      ]
     },
     "metadata": {},
     "output_type": "display_data"
    }
   ],
   "source": [
    "data <- read.csv(\"datas/mmse_kadai5.csv\", header=FALSE, col.names = c(\"x12\",\"y1\",\"y2\"))\n",
    "x11 <- rep(1, nrow(data))\n",
    "x12 <- as.matrix(data[,\"x12\"])\n",
    "x21 <- rep(1, nrow(data))\n",
    "x22 <- x12^2\n",
    "m <- nrow(data)\n",
    "x <- array(0, dim = c(2, 2, m))\n",
    "for (i in 1:m) {\n",
    "    x[,,i] <- matrix(c(x11[i], x12[i], x21[i], x22[i]), nrow = 2, byrow = TRUE)\n",
    "}\n",
    "y <- as.matrix(data[,c(\"y1\",\"y2\")])\n",
    "N_max <- dim(x)[3]\n",
    "\n",
    "exp5 <- function(x, y, n, method = \"ols\", V = matrix(c(100,0,0,1), 2, 2)){\n",
    "    x <- x[,,1:n]\n",
    "    y <- y[1:n, , drop=FALSE]\n",
    "    \n",
    "    if (method == \"ols\") {\n",
    "        result <- regression_multiple(x, y)\n",
    "    } else if (method == \"wls\") {\n",
    "        result <- regression_multiple(x, y, V)\n",
    "    }\n",
    "    list(\n",
    "        theta_hat = result$theta_hat,\n",
    "        err_cov_mat = result$err_cov_mat\n",
    "    )\n",
    "}\n",
    "\n",
    "plot_exp5 <- function(x, y, method = \"ols\", V = matrix(c(100,0,0,1), 2, 2)){\n",
    "    ns <- c(4,8,16,32,64,128,256,512,1000)\n",
    "    ns <- ns[ns <= dim(x)[3]]\n",
    "    theta_hats <- matrix(0, nrow=length(ns), ncol=nrow(x[,,1]))\n",
    "    for (i in seq_along(ns)){\n",
    "        n <- ns[i]\n",
    "        res <- exp5(x, y, n, method, V)\n",
    "        theta_hats[i, ] <- as.vector(res$theta_hat)\n",
    "    }\n",
    "    dir.create(\"graphs\", showWarnings = FALSE)\n",
    "    png(paste0(\"graphs/task5_\", method, \".png\"))\n",
    "    matplot(ns, theta_hats, type=\"b\", log=\"x\",\n",
    "            xlab=\"n\", ylab=\"theta_hat\",\n",
    "            main=paste(\"Convergence of theta_hat (exp5 -\", method, \")\"))\n",
    "    dev.off()\n",
    "}\n",
    "print (\"OLS results:\")\n",
    "print(exp5(x, y, N_max, \"ols\")$theta_hat)\n",
    "print(exp5(x, y, N_max, \"ols\")$err_cov_mat)\n",
    "plot_exp5(x, y, \"ols\")\n",
    "print (\"WLS results:\")\n",
    "print(exp5(x, y, N_max, \"wls\")$theta_hat)\n",
    "print(exp5(x, y, N_max, \"wls\")$err_cov_mat)\n",
    "plot_exp5(x, y, \"wls\")"
   ]
  },
  {
   "cell_type": "code",
   "execution_count": 59,
   "id": "83dc8f1e",
   "metadata": {
    "vscode": {
     "languageId": "r"
    }
   },
   "outputs": [
    {
     "name": "stdout",
     "output_type": "stream",
     "text": [
      "[1] \"WLS results:\"\n",
      "          [,1]\n",
      "[1,]  2.994202\n",
      "[2,] -2.014699\n",
      "          [,1]\n",
      "[1,]  2.994202\n",
      "[2,] -2.014699\n",
      "            [,1]        [,2]\n",
      "[1,]  0.06019710 -0.02227335\n",
      "[2,] -0.02227335  0.01276759\n",
      "            [,1]        [,2]\n",
      "[1,]  0.06019710 -0.02227335\n",
      "[2,] -0.02227335  0.01276759\n"
     ]
    },
    {
     "data": {
      "text/html": [
       "<strong>pdf:</strong> 2"
      ],
      "text/latex": [
       "\\textbf{pdf:} 2"
      ],
      "text/markdown": [
       "**pdf:** 2"
      ],
      "text/plain": [
       "pdf \n",
       "  2 "
      ]
     },
     "metadata": {},
     "output_type": "display_data"
    },
    {
     "name": "stdout",
     "output_type": "stream",
     "text": [
      "[1] \"OLS results:\"\n",
      "          [,1]\n",
      "[1,]  3.188356\n",
      "[2,] -2.092183\n",
      "          [,1]\n",
      "[1,]  3.188356\n",
      "[2,] -2.092183\n",
      "              [,1]          [,2]\n",
      "[1,]  0.0005692084 -0.0001402629\n",
      "[2,] -0.0001402629  0.0002842674\n",
      "              [,1]          [,2]\n",
      "[1,]  0.0005692084 -0.0001402629\n",
      "[2,] -0.0001402629  0.0002842674\n"
     ]
    },
    {
     "data": {
      "text/html": [
       "<strong>pdf:</strong> 2"
      ],
      "text/latex": [
       "\\textbf{pdf:} 2"
      ],
      "text/markdown": [
       "**pdf:** 2"
      ],
      "text/plain": [
       "pdf \n",
       "  2 "
      ]
     },
     "metadata": {},
     "output_type": "display_data"
    }
   ],
   "source": [
    "regression_multiple_different_distributions <- function(x, y, V1 = NULL,V2 = NULL, num = NULL){\n",
    "    # x: m×m行列のn個の配列　\n",
    "    # y: n×m行列\n",
    "    if (is.null(V1)) {\n",
    "        # 重みなしならm×mの単位行列\n",
    "        V1 <- diag(m)\n",
    "    }\n",
    "    if (is.null(V2)) {\n",
    "        # 重みなしならm×mの単位行列\n",
    "        V2 <- diag(m)\n",
    "    }\n",
    "    n <- nrow(y)\n",
    "    if (is.null(num) || num > n) {\n",
    "        result <- regression_multiple(x, y, V1)\n",
    "        return(result)\n",
    "    }\n",
    "    m <- ncol(y)\n",
    "\n",
    "    Q1 <- solve(V1)\n",
    "    Q2 <- solve(V2)\n",
    "  \n",
    "    S <- matrix(0,m,m)\n",
    "    b <- matrix(0,m,1)\n",
    "    T <- matrix(0,m,m)\n",
    "    for (i in 1:num){\n",
    "        \n",
    "        xi <- x[,,i]\n",
    "        yi <- matrix(c(y[i, ]), nrow=1)\n",
    "        yi <- t(yi)\n",
    "\n",
    "        S <- S + t(xi) %*% Q1 %*% xi\n",
    "        b <- b + t(xi) %*% Q1 %*% yi\n",
    "        T <- T + t(xi) %*% V1 %*% xi\n",
    "    }\n",
    "    for (i in (num+1):n){\n",
    "        \n",
    "        xi <- x[,,i]\n",
    "        yi <- matrix(c(y[i, ]), nrow=1)\n",
    "        yi <- t(yi)\n",
    "\n",
    "        S <- S + t(xi) %*% Q2 %*% xi\n",
    "        b <- b + t(xi) %*% Q2 %*% yi\n",
    "        T <- T + t(xi) %*% V2 %*% xi\n",
    "    }\n",
    "    theta_hat <- solve(S) %*% b\n",
    "    err_cov_mat <- solve(S) %*% T %*% solve(S)\n",
    "    return(list(theta_hat = theta_hat, err_cov_mat = err_cov_mat))\n",
    "}\n",
    "\n",
    "\n",
    "data <- read.csv(\"datas/mmse_kadai6.csv\", header=FALSE, col.names = c(\"x12\",\"y1\",\"y2\"))\n",
    "x11 <- rep(1, nrow(data))\n",
    "x12 <- as.matrix(data[,\"x12\"])\n",
    "x21 <- rep(1, nrow(data))\n",
    "x22 <- x12^2\n",
    "m <- nrow(data)\n",
    "x <- array(0, dim = c(2, 2, m))\n",
    "for (i in 1:m) {\n",
    "    x[,,i] <- matrix(c(x11[i], x12[i], x21[i], x22[i]), nrow = 2, byrow = TRUE)\n",
    "}\n",
    "y <- as.matrix(data[,c(\"y1\",\"y2\")])\n",
    "N_max <- dim(x)[3]\n",
    "V1 = matrix(c(100,0,0,1), 2, 2)\n",
    "V2 = matrix(c(2,0,0,1), 2, 2)\n",
    "# print (regression_multiple_different_distributions(x, y, V1 = matrix(c(100,0,0,1), 2, 2), V2 = matrix(c(2,0,0,1), 2, 2), num = 500)$theta_hat)\n",
    "\n",
    "exp6 <- function(x, y, n, V1, V2, num , method = \"ols\"){\n",
    "    x <- x[,,1:n]\n",
    "    y <- y[1:n, , drop=FALSE]\n",
    "    \n",
    "    if (method == \"ols\") {\n",
    "        result <- regression_multiple(x, y)\n",
    "    } else if (method == \"wls\") {\n",
    "        result <- regression_multiple_different_distributions(x, y, V1, V2, num)\n",
    "    } \n",
    "    list(\n",
    "        theta_hat = result$theta_hat,\n",
    "        err_cov_mat = result$err_cov_mat\n",
    "    )\n",
    "}\n",
    "\n",
    "plot_exp6 <- function(x, y, V1, V2, num , method = \"wls\"){\n",
    "    ns <- seq(4, 1000, length.out = 20)\n",
    "    ns <- ns[ns <= dim(x)[3]]\n",
    "    theta_hats <- matrix(0, nrow=length(ns), ncol=nrow(x[,,1]))\n",
    "    for (i in seq_along(ns)){\n",
    "        n <- ns[i]\n",
    "        res <- exp6(x, y, n, V1, V2, num , method)\n",
    "        theta_hats[i, ] <- as.vector(res$theta_hat)\n",
    "    }\n",
    "    dir.create(\"graphs\", showWarnings = FALSE)\n",
    "    png(paste0(\"graphs/task6_\", method, \".png\"))\n",
    "    matplot(ns, theta_hats, type=\"b\",\n",
    "            xlab=\"n\", ylab=\"theta_hat\",\n",
    "            main=paste(\"Convergence of theta_hat (exp6 -\", method, \")\"))\n",
    "    dev.off()\n",
    "}\n",
    "print (\"WLS results:\")\n",
    "print(exp6(x, y, N_max, V1 = V1, V2 = V2, num = 500 , method = \"wls\")$theta_hat)\n",
    "print(exp6(x, y, N_max, V1 = V1, V2 = V2, num = 500 , method = \"wls\")$err_cov_mat)\n",
    "plot_exp6(x, y, V1 = V1, V2 = V2, num = 500 , method = \"wls\")\n",
    "\n",
    "print (\"OLS results:\")\n",
    "print(exp6(x, y, N_max, V1 = V1, V2 = V2, num = 500 , method = \"ols\")$theta_hat)\n",
    "print(exp6(x, y, N_max, V1 = V1, V2 = V2, num = 500 , method = \"ols\")$err_cov_mat)\n",
    "plot_exp6(x, y, V1 = V1, V2 = V2, num = 500 , method = \"ols\")\n"
   ]
  },
  {
   "cell_type": "code",
   "execution_count": 60,
   "id": "cd2216e6",
   "metadata": {
    "vscode": {
     "languageId": "r"
    }
   },
   "outputs": [
    {
     "name": "stdout",
     "output_type": "stream",
     "text": [
      "[1] \"S6000:\"\n",
      "         [,1]     [,2]      [,3]\n",
      "[1,] 6000.000 1505.370 1033.4989\n",
      "[2,] 1505.370 1063.211  226.4010\n",
      "[3,] 1033.499  226.401  720.5624\n",
      "[1] \"S4000:\"\n",
      "          [,1]     [,2]     [,3]\n",
      "[1,] 4000.0000 971.1512 716.3177\n",
      "[2,]  971.1512 679.4769 149.7493\n",
      "[3,]  716.3177 149.7493 510.2238\n",
      "[1] \"theta6000:\"\n",
      "             [,1]\n",
      "[1,] -0.003879385\n",
      "[2,]  3.010714895\n",
      "[3,] -1.989434350\n",
      "[1] \"theta4000:\"\n",
      "            [,1]\n",
      "[1,] -0.02537589\n",
      "[2,]  3.03489937\n",
      "[3,] -1.97772731\n",
      "[1] \"theta6000_4000:\"\n",
      "           [,1]\n",
      "[1,] -0.0124955\n",
      "[2,]  3.0204300\n",
      "[3,] -1.9848692\n",
      "[1] \"theta10000:\"\n",
      "           [,1]\n",
      "[1,] -0.0124955\n",
      "[2,]  3.0204300\n",
      "[3,] -1.9848692\n"
     ]
    }
   ],
   "source": [
    "data <- read.csv(\"datas/mmse_kadai7.csv\", header=FALSE, col.names = c(\"x\",\"y\"))\n",
    "# \\[\n",
    "# \\begin{bmatrix}\n",
    "# 1 & \\exp\\bigl(-\\tfrac{(x_i - 1)^2}{2}\\bigr) & \\exp\\bigl(-(x_i + 1)^2\\bigr)\n",
    "# \\end{bmatrix}\n",
    "# \\]\n",
    "\n",
    "x0 <- rep(1, nrow(data))\n",
    "x1 <- exp(-(data$x - 1)^2 / 2)\n",
    "x2 <- exp(-(data$x + 1)^2)\n",
    "n <- nrow(data)\n",
    "x <- array(0, dim = c(3, 1, n))\n",
    "for (i in 1:n) {\n",
    "    x[,,i] <- matrix(c(x0[i], x1[i], x2[i]), nrow = 3, ncol = 1)\n",
    "}\n",
    "y <- as.matrix(data[,\"y\"])\n",
    "x_6000 <- x[, , 1:6000, drop=FALSE]\n",
    "y_6000 <- y[1:6000, , drop=FALSE]\n",
    "x_4000 <- x[, , 6001:10000, drop=FALSE]\n",
    "y_4000 <- y[6001:10000, , drop=FALSE]\n",
    "\n",
    "exp7 <- function(){\n",
    "    S_6000 <- regression_multiple(x_6000, y_6000)$S\n",
    "    S_4000 <- regression_multiple(x_4000, y_4000)$S\n",
    "    theta_6000 <- regression_multiple(x_6000, y_6000)$theta_hat\n",
    "    theta_4000 <- regression_multiple(x_4000, y_4000)$theta_hat\n",
    "    print (\"S6000:\")\n",
    "    print (S_6000)\n",
    "    print (\"S4000:\")\n",
    "    print (S_4000)\n",
    "    print (\"theta6000:\")\n",
    "    print (theta_6000)\n",
    "    print (\"theta4000:\")\n",
    "    print (theta_4000)\n",
    "    theta_6000_4000 <- solve(S_6000 + S_4000) %*% (S_6000 %*% theta_6000 + S_4000 %*% theta_4000)\n",
    "    print (\"theta6000_4000:\")\n",
    "    print (theta_6000_4000)\n",
    "    print (\"theta10000:\")\n",
    "    print (regression_multiple(x, y)$theta_hat)\n",
    "\n",
    "}\n",
    "exp7()"
   ]
  },
  {
   "cell_type": "code",
   "execution_count": 61,
   "id": "43cb9d72",
   "metadata": {
    "vscode": {
     "languageId": "r"
    }
   },
   "outputs": [
    {
     "name": "stdout",
     "output_type": "stream",
     "text": [
      "[1] \"theta_6000:\"\n",
      "             [,1]\n",
      "[1,] -0.003879385\n",
      "[2,]  3.010714895\n",
      "[3,] -1.989434350\n",
      "[1] \"theta_4000:\"\n",
      "            [,1]\n",
      "[1,] -0.02537589\n",
      "[2,]  3.03489937\n",
      "[3,] -1.97772731\n",
      "[1] \"theta6000_4000:\"\n",
      "            [,1]\n",
      "[1,] -0.01245376\n",
      "[2,]  3.02038299\n",
      "[3,] -1.98489169\n",
      "[1] \"theta10000:\"\n",
      "           [,1]\n",
      "[1,] -0.0124955\n",
      "[2,]  3.0204300\n",
      "[3,] -1.9848692\n"
     ]
    }
   ],
   "source": [
    "data <- read.csv(\"datas/mmse_kadai7.csv\", header=FALSE, col.names = c(\"x\",\"y\"))\n",
    "# \\[\n",
    "# \\begin{bmatrix}\n",
    "# 1 & \\exp\\bigl(-\\tfrac{(x_i - 1)^2}{2}\\bigr) & \\exp\\bigl(-(x_i + 1)^2\\bigr)\n",
    "# \\end{bmatrix}\n",
    "# \\]\n",
    "\n",
    "x0 <- rep(1, nrow(data))\n",
    "x1 <- exp(-(data$x - 1)^2 / 2)\n",
    "x2 <- exp(-(data$x + 1)^2)\n",
    "n <- nrow(data)\n",
    "x <- array(0, dim = c(3, 1, n))\n",
    "for (i in 1:n) {\n",
    "    x[,,i] <- matrix(c(x0[i], x1[i], x2[i]), nrow = 3, ncol = 1)\n",
    "}\n",
    "y <- as.matrix(data[,\"y\"])\n",
    "x_mat <- t(matrix(x, nrow = 3, ncol = n))\n",
    "x_6000 <- x[, , 1:6000, drop=FALSE]\n",
    "x_6000_mat <- t(matrix(x_6000, nrow = 3, ncol = 6000))\n",
    "y_6000 <- y[1:6000, , drop=FALSE]\n",
    "x_4000 <- x[, , 6001:10000, drop=FALSE]\n",
    "x_4000_mat <- t(matrix(x_4000, nrow = 3, ncol = 4000))\n",
    "y_4000 <- y[6001:10000, , drop=FALSE]\n",
    "exp8 <- function(){\n",
    "    theta_hat_full <- regression_multiple(x, y)$theta_hat\n",
    "    theta_hat_6000 <- regression_multiple(x_6000, y_6000)$theta_hat\n",
    "    theta_hat_4000 <- regression_multiple(x_4000, y_4000)$theta_hat\n",
    "    V_hat_full <- sum((y - x_mat %*% theta_hat_full)^2) / (nrow(x_mat) - ncol(x_mat))\n",
    "    V_hat_6000 <- sum((y_6000 - x_6000_mat %*% theta_hat_6000)^2) / (nrow(x_6000_mat) - ncol(x_6000_mat))\n",
    "    V_hat_4000 <- sum((y_4000 - x_4000_mat %*% theta_hat_4000)^2) / (nrow(x_4000_mat) - ncol(x_4000_mat))\n",
    "    S_6000 <- regression_multiple(x_6000, y_6000,V = V_hat_6000)$S\n",
    "    S_4000 <- regression_multiple(x_4000, y_4000,V = V_hat_4000)$S\n",
    "    theta_6000 <- regression_multiple(x_6000, y_6000,V = V_hat_6000)$theta_hat\n",
    "    theta_4000 <- regression_multiple(x_4000, y_4000,V = V_hat_4000)$theta_hat\n",
    "    print (\"theta_6000:\")\n",
    "    print (theta_6000)\n",
    "    print (\"theta_4000:\")\n",
    "    print (theta_4000)\n",
    "    theta_6000_4000 <- solve(S_6000 + S_4000) %*% (S_6000 %*% theta_6000 + S_4000 %*% theta_4000)\n",
    "    print (\"theta6000_4000:\")\n",
    "    print (theta_6000_4000)\n",
    "    print (\"theta10000:\")\n",
    "    print (regression_multiple(x, y,V = V_hat_full)$theta_hat)\n",
    "}\n",
    "exp8()"
   ]
  },
  {
   "cell_type": "code",
   "execution_count": 62,
   "id": "c948c9f1",
   "metadata": {
    "vscode": {
     "languageId": "r"
    }
   },
   "outputs": [],
   "source": [
    "update_regression_mat <- function(Phi_N, phi_N_plus_1,theta_N,y_N_plus_1,gamma=1){\n",
    "    # Phi_N: 現在のグラム行列の逆行列 (p x p)\n",
    "    # phi_N_plus_1: 新しい特徴ベクトル (1 x p)\n",
    "    # theta_N: 現在のパラメータ推定値 (p x 1)\n",
    "    \n",
    "    I_m <- diag(1)  # 単位行列\n",
    "    \n",
    "    # 式: Phi_{N+1} = Phi_N - Phi_N * phi_{N+1} * (I_m + phi_{N+1}^T * Phi_N * phi_{N+1})^{-1} * phi_{N+1}^T * Phi_N\n",
    "    \n",
    "    # 中間計算\n",
    "    phi_T_Phi_phi <- phi_N_plus_1 %*% Phi_N %*% t(phi_N_plus_1)  # スカラーまたは (1 x 1)\n",
    "    \n",
    "    # 逆行列の項\n",
    "    inv_term <- solve(I_m +gamma * phi_T_Phi_phi)  #  スカラー\n",
    "\n",
    "    K <- gamma * Phi_N %*% t(phi_N_plus_1) %*% inv_term\n",
    "    # 更新\n",
    "    Phi_N_plus_1 <- Phi_N - K %*% phi_N_plus_1 %*% Phi_N\n",
    "    theta_N_plus_1 <- theta_N + K %*% (y_N_plus_1 - phi_N_plus_1 %*% theta_N)\n",
    "    return(list(Phi_N_plus_1 = Phi_N_plus_1, theta_N_plus_1 = theta_N_plus_1))\n",
    "    \n",
    "}"
   ]
  },
  {
   "cell_type": "code",
   "execution_count": 63,
   "id": "55736b43",
   "metadata": {
    "vscode": {
     "languageId": "r"
    }
   },
   "outputs": [
    {
     "name": "stdout",
     "output_type": "stream",
     "text": [
      "[1] \"exp9_1 theta estimate \"\n",
      "             [,1]\n",
      "[1,]  1.993997474\n",
      "[2,] -0.994185427\n",
      "[3,] -0.005076877\n",
      "[1] \"exp9_2 theta estimate \"\n",
      "             [,1]\n",
      "[1,]  1.994946275\n",
      "[2,] -0.995109611\n",
      "[3,]  0.009626297\n",
      "[1] \"exp9_2 theta estimate \"\n",
      "             [,1]\n",
      "[1,]  1.994946275\n",
      "[2,] -0.995109611\n",
      "[3,]  0.009626297\n",
      "[1] \"exp9_3 theta estimate \"\n",
      "              [,1]\n",
      "[1,]  1.992673e+00\n",
      "[2,] -9.928248e-01\n",
      "[3,]  5.327826e-05\n",
      "[1] \"exp9_3 theta estimate \"\n",
      "              [,1]\n",
      "[1,]  1.992673e+00\n",
      "[2,] -9.928248e-01\n",
      "[3,]  5.327826e-05\n"
     ]
    }
   ],
   "source": [
    "\n",
    "\n",
    "w <- function(){\n",
    "    runif(1, min = -1, max = 1)\n",
    "}\n",
    "\n",
    "update_tick <- function(y_k_1, y_k_2, F_k_2, M = 2, D = 1, K = 3, delta_t = 0.01){\n",
    "    y_k <- (2 - (D / M) * delta_t) * y_k_1 -\n",
    "           (1 - (D / M) * delta_t + (K / M) * delta_t^2) * y_k_2 +\n",
    "           (delta_t^2 / M) * F_k_2 +\n",
    "           w()\n",
    "    return(y_k)\n",
    "}\n",
    "\n",
    "exp9_1 <- function(){\n",
    "    # Fは常に0\n",
    "    y_k <- 0\n",
    "    y_k_1 <- 0\n",
    "    y_k_2 <- 0\n",
    "    F_k_2 <- 1\n",
    "    Phi <- diag(3) *1000\n",
    "    theta_hat <- matrix(c(0,0,0), nrow = 3, ncol = 1)\n",
    "    y <- c()\n",
    "    x <- array(0, dim = c(3, 1, 10000))\n",
    "    for (i in 1:10000) {\n",
    "        y_k_2 <- y_k_1\n",
    "        y_k_1 <- y_k\n",
    "        y_k <- update_tick(y_k_1, y_k_2, F_k_2)\n",
    "        y <- rbind(y, y_k)\n",
    "        yk <- matrix(c(y_k), nrow = 1, ncol = 1)\n",
    "        xi <- matrix(c(y_k_1, y_k_2, F_k_2), nrow = 1, ncol = 3)\n",
    "        x[,,i] <- xi\n",
    "        update <- update_regression_mat(Phi, xi, theta_hat, y_k)\n",
    "        Phi <- update$Phi_N_plus_1\n",
    "        theta_hat <- update$theta_N_plus_1\n",
    "\n",
    "    }\n",
    "    # result <- regression_multiple(x, y)\n",
    "\n",
    "    print (\"exp9_1 theta estimate \")\n",
    "    print(theta_hat)\n",
    "}\n",
    "\n",
    "exp9_2 <- function(){\n",
    "    # Fはsin波\n",
    "    y_k <- 0\n",
    "    y_k_1 <- 0\n",
    "    y_k_2 <- 0\n",
    "    Phi <- diag(3) *1000\n",
    "    theta_hat <- matrix(c(0,0,0), nrow = 3, ncol = 1)\n",
    "    y <- c()\n",
    "    x <- array(0, dim = c(3, 1, 10000))\n",
    "    for (i in 1:10000) {\n",
    "        F_k_2 <- sin(pi * i / 5)\n",
    "        y_k_2 <- y_k_1\n",
    "        y_k_1 <- y_k\n",
    "        y_k <- update_tick(y_k_1, y_k_2, F_k_2)\n",
    "        y <- rbind(y, y_k)\n",
    "        yk <- matrix(c(y_k), nrow = 1, ncol = 1)\n",
    "        xi <- matrix(c(y_k_1, y_k_2, F_k_2), nrow = 1, ncol = 3)\n",
    "        x[,,i] <- xi\n",
    "        update <- update_regression_mat(Phi, xi, theta_hat, y_k)\n",
    "        Phi <- update$Phi_N_plus_1\n",
    "        theta_hat <- update$theta_N_plus_1\n",
    "    }\n",
    "    print (\"exp9_2 theta estimate \")\n",
    "    print(theta_hat)\n",
    "}\n",
    "\n",
    "exp9_3 <- function(){\n",
    "    \n",
    "    y_k <- 0\n",
    "    y_k_1 <- 0\n",
    "    y_k_2 <- 0\n",
    "    Phi <- diag(3) *1000\n",
    "    theta_hat <- matrix(c(0,0,0), nrow = 3, ncol = 1)\n",
    "    y <- c()\n",
    "    x <- array(0, dim = c(3, 1, 10000))\n",
    "    for (i in 1:10000) {\n",
    "        F_k_2 <- 3000*sin(pi * i / 5)\n",
    "        y_k_2 <- y_k_1\n",
    "        y_k_1 <- y_k\n",
    "        y_k <- update_tick(y_k_1, y_k_2, F_k_2)\n",
    "        y <- rbind(y, y_k)\n",
    "        yk <- matrix(c(y_k), nrow = 1, ncol = 1)\n",
    "        xi <- matrix(c(y_k_1, y_k_2, F_k_2), nrow = 1, ncol = 3)\n",
    "        x[,,i] <- xi\n",
    "        update <- update_regression_mat(Phi, xi, theta_hat, y_k)\n",
    "        Phi <- update$Phi_N_plus_1\n",
    "        theta_hat <- update$theta_N_plus_1\n",
    "    }\n",
    "    print (\"exp9_3 theta estimate \")\n",
    "    print(theta_hat)\n",
    "}\n",
    "\n",
    "exp9_1()\n",
    "exp9_2()\n",
    "exp9_3()"
   ]
  },
  {
   "cell_type": "code",
   "execution_count": 64,
   "id": "31ba8105",
   "metadata": {
    "vscode": {
     "languageId": "r"
    }
   },
   "outputs": [
    {
     "data": {
      "text/html": [
       "<strong>pdf:</strong> 2"
      ],
      "text/latex": [
       "\\textbf{pdf:} 2"
      ],
      "text/markdown": [
       "**pdf:** 2"
      ],
      "text/plain": [
       "pdf \n",
       "  2 "
      ]
     },
     "metadata": {},
     "output_type": "display_data"
    }
   ],
   "source": [
    "\n",
    "\n",
    "# \\section*{課題 10（非定常時系列データの推定）}\n",
    "# 次の正弦波でゆっくりと変動する信号を考える．\n",
    "# \\[\n",
    "#   y_k=\\sin(0.0001\\,k)+w_k,\\qquad k=1,\\ldots,10000 .\n",
    "# \\]\n",
    "# ただし，$w_k$ は $-1$ と $+1$ を確率 $\\tfrac12$ で出す Bernoulli 過程であるとし，\n",
    "# $\\theta_k := \\sin(0.0001\\,k)$ は未知とする．\n",
    "\n",
    "# このとき，$\\gamma=0.99$ の忘却係数付きの逐次最小二乗法で $\\theta_k$ を推定し，\n",
    "# 各時刻の $\\hat{\\theta}_{\\gamma,k}$ をプロットせよ．\n",
    "\n",
    "exp10 <- function(){\n",
    "    y_k <- 0\n",
    "    Phi <- matrix(1000, nrow = 1, ncol = 1)\n",
    "    theta_hat <- matrix(c(0), nrow = 1, ncol = 1)\n",
    "    y <- c()\n",
    "    theta_hats <- c()\n",
    "    for (k in 1:10000) {\n",
    "        w_k <- sample(c(-1, 1), 1)\n",
    "        y_k <- sin(0.0001 * k) + w_k\n",
    "        y <- rbind(y, y_k)\n",
    "        yk <- matrix(c(y_k), nrow = 1, ncol = 1)\n",
    "        xi <- matrix(c(1), nrow = 1, ncol = 1)\n",
    "        update <- update_regression_mat(Phi, xi, theta_hat, y_k, gamma = 0.99)\n",
    "        Phi <- update$Phi_N_plus_1\n",
    "        theta_hat <- update$theta_N_plus_1\n",
    "        theta_hats <- rbind(theta_hats, theta_hat)\n",
    "    }\n",
    "    dir.create(\"graphs\", showWarnings = FALSE)\n",
    "    png(\"graphs/task10.png\")\n",
    "    plot(1:10000, theta_hats, type=\"l\", col=\"blue\", ylim=c(-1.5, 1.5),\n",
    "         xlab=\"k\", ylab=\"theta_hat\", main=\"Estimation of non-stationary time series (exp10)\")\n",
    "    lines(1:10000, sin(0.0001 * (1:10000)), col=\"red\")\n",
    "    legend(\"topright\", legend=c(\"Estimated theta_hat\", \"True theta\"), col=c(\"blue\", \"red\"), lty=1)\n",
    "    dev.off()\n",
    "}\n",
    "exp10()"
   ]
  },
  {
   "cell_type": "code",
   "execution_count": 65,
   "id": "f7967389",
   "metadata": {
    "vscode": {
     "languageId": "r"
    }
   },
   "outputs": [],
   "source": [
    "update_kalman_filter <- function(theta_k_1, V_k_1, y_k, a_k, c_k, sigma2_v, sigma2_w) {\n",
    "    # theta_k_1: 前時刻のパラメータ推定値 θ_{k-1}\n",
    "    # V_k_1: 前時刻の誤差共分散 V_{k-1}\n",
    "    # y_k: 現時刻の観測値 y_k\n",
    "    # a_k: システムパラメータ a_k\n",
    "    # c_k: 観測パラメータ c_k\n",
    "    # sigma2_v: システムノイズの分散 σ_v^2\n",
    "    # sigma2_w: 観測ノイズの分散 σ_w^2\n",
    "    \n",
    "    # (3.37) X_k = a_k^2 * V_{k-1} + σ_v^2\n",
    "    X_k <- a_k^2 * V_k_1 + sigma2_v\n",
    "    \n",
    "    # (3.39) F_k = (c_k * X_k) / (c_k^2 * X_k + σ_w^2)\n",
    "    F_k <- (c_k * X_k) / (c_k^2 * X_k + sigma2_w)\n",
    "    \n",
    "    # (3.36) θ_k = a_k * θ_{k-1} + F_k * (y_k - c_k * a_k * θ_{k-1})\n",
    "    theta_k <- a_k * theta_k_1 + F_k * (y_k - c_k * a_k * theta_k_1)\n",
    "    \n",
    "    # (3.38) V_k = (σ_w^2 * X_k) / (c_k^2 * X_k + σ_w^2)\n",
    "    V_k <- (sigma2_w * X_k) / (c_k^2 * X_k + sigma2_w)\n",
    "    \n",
    "    return(list(\n",
    "        theta_k = theta_k,\n",
    "        V_k = V_k,\n",
    "        X_k = X_k,\n",
    "        F_k = F_k\n",
    "    ))\n",
    "}"
   ]
  },
  {
   "cell_type": "code",
   "execution_count": 66,
   "id": "edc0b5a1",
   "metadata": {
    "vscode": {
     "languageId": "r"
    }
   },
   "outputs": [],
   "source": [
    "# データ生成関数（exp11とexp12で共通使用）\n",
    "generate_kalman_data <- function(seed = 123, N = 100, a_k = 0.9, c_k = 2, sigma2_v = 1, sigma2_w = 1) {\n",
    "    # 乱数シードを設定\n",
    "    set.seed(seed)\n",
    "    \n",
    "    # 初期値\n",
    "    theta_0 <- rnorm(1, mean = 3, sd = sqrt(2))  # θ_0 ~ N(3, 2)\n",
    "    V_0 <- 2\n",
    "    \n",
    "    # データ格納用\n",
    "    theta_true <- numeric(N)\n",
    "    y_obs <- numeric(N)\n",
    "    \n",
    "    # 初期化\n",
    "    theta_k_1 <- theta_0\n",
    "    \n",
    "    # データ生成\n",
    "    for (k in 1:N) {\n",
    "        # 真の状態遷移 (3.40): θ_k = a_k * θ_{k-1} + v_k\n",
    "        v_k <- rnorm(1, mean = 0, sd = sqrt(sigma2_v))\n",
    "        theta_k <- a_k * theta_k_1 + v_k\n",
    "        theta_true[k] <- theta_k\n",
    "        \n",
    "        # 観測 (3.41): y_k = c_k * θ_k + w_k\n",
    "        w_k <- rnorm(1, mean = 0, sd = sqrt(sigma2_w))\n",
    "        y_k <- c_k * theta_k + w_k\n",
    "        y_obs[k] <- y_k\n",
    "        \n",
    "        # 次のステップへ\n",
    "        theta_k_1 <- theta_k\n",
    "    }\n",
    "    \n",
    "    # データを返す\n",
    "    return(list(\n",
    "        theta_true = theta_true,\n",
    "        y_obs = y_obs,\n",
    "        theta_0 = theta_0,\n",
    "        V_0 = V_0,\n",
    "        a_k = a_k,\n",
    "        c_k = c_k,\n",
    "        sigma2_v = sigma2_v,\n",
    "        sigma2_w = sigma2_w,\n",
    "        N = N\n",
    "    ))\n",
    "}\n",
    "\n",
    "# カルマンフィルタの実行（フォワードパスのみ）\n",
    "exp11 <- function(data) {\n",
    "    # パラメータ取得\n",
    "    theta_true <- data$theta_true\n",
    "    y_obs <- data$y_obs\n",
    "    theta_0 <- data$theta_0\n",
    "    V_0 <- data$V_0\n",
    "    a_k <- data$a_k\n",
    "    c_k <- data$c_k\n",
    "    sigma2_v <- data$sigma2_v\n",
    "    sigma2_w <- data$sigma2_w\n",
    "    N <- data$N\n",
    "    \n",
    "    # 推定値格納用\n",
    "    theta_hat <- numeric(N)\n",
    "    V_all <- numeric(N)\n",
    "    \n",
    "    # 初期化\n",
    "    theta_k_1 <- theta_0\n",
    "    V_k_1 <- V_0\n",
    "    \n",
    "    # Kalmanフィルタによる推定（フォワードパス）\n",
    "    for (k in 1:N) {\n",
    "        kalman_result <- update_kalman_filter(theta_k_1, V_k_1, y_obs[k], a_k, c_k, sigma2_v, sigma2_w)\n",
    "        theta_hat[k] <- kalman_result$theta_k\n",
    "        V_all[k] <- kalman_result$V_k\n",
    "        V_k_1 <- kalman_result$V_k\n",
    "        theta_k_1 <- kalman_result$theta_k\n",
    "    }\n",
    "    \n",
    "    # プロット\n",
    "    dir.create(\"graphs\", showWarnings = FALSE)\n",
    "    png(\"graphs/task11.png\")\n",
    "    plot(1:N, theta_true, type=\"l\", col=\"red\", lwd=2,\n",
    "         xlab=\"k\", ylab=\"theta\", main=\"Kalman Filter Estimation (exp11)\",\n",
    "         ylim=range(c(theta_true, theta_hat)))\n",
    "    lines(1:N, theta_hat, col=\"blue\", lwd=2)\n",
    "    legend(\"topright\", legend=c(\"True theta_k\", \"Filtered theta_hat_k\"), \n",
    "           col=c(\"red\", \"blue\"), lty=1, lwd=2)\n",
    "    dev.off()\n",
    "    \n",
    "    # 結果の一部を表示\n",
    "    cat(\"exp11: Kalman Filter (Forward Pass Only)\\n\")\n",
    "    cat(\"mmse:\", mean((theta_true - theta_hat)^2), \"\\n\")\n",
    "\n",
    "    \n",
    "    # 結果を返す\n",
    "    return(list(\n",
    "        theta_hat = theta_hat,\n",
    "        V_all = V_all\n",
    "    ))\n",
    "}"
   ]
  },
  {
   "cell_type": "code",
   "execution_count": 67,
   "id": "d807c8c8",
   "metadata": {
    "vscode": {
     "languageId": "r"
    }
   },
   "outputs": [],
   "source": [
    "update_kalman_smoother <- function(theta_k, theta_k_plus_1_s, V_k, V_k_plus_1_s, X_k_plus_1, a_k) {\n",
    "    # theta_k: フィルタリングで得られた θ_k (フォワードパスの結果)\n",
    "    # theta_k_plus_1_s: スムージングで得られた θ^s_{k+1} (バックワードパスの結果)\n",
    "    # V_k: フィルタリングで得られた V_k\n",
    "    # V_k_plus_1_s: スムージングで得られた V^s_{k+1}\n",
    "    # X_k_plus_1: 予測誤差共分散 X_{k+1} = a_k^2 * V_k + σ_v^2\n",
    "    # a_k: システムパラメータ a_k\n",
    "    \n",
    "    # (3.43) g_k = a_k * V_k / X_{k+1}\n",
    "    g_k <- a_k * V_k / X_k_plus_1\n",
    "    \n",
    "    # (3.42) θ^s_k = θ_k + g_k * (θ^s_{k+1} - a_k * θ_k)\n",
    "    theta_k_s <- theta_k + g_k * (theta_k_plus_1_s - a_k * theta_k)\n",
    "    \n",
    "    # (3.44) V^s_k = V_k + g_k^2 * (V^s_{k+1} - X_{k+1})\n",
    "    V_k_s <- V_k + g_k^2 * (V_k_plus_1_s - X_k_plus_1)\n",
    "    \n",
    "    return(list(\n",
    "        theta_k_s = theta_k_s,\n",
    "        V_k_s = V_k_s,\n",
    "        g_k = g_k\n",
    "    ))\n",
    "}"
   ]
  },
  {
   "cell_type": "code",
   "execution_count": 68,
   "id": "8ed7a973",
   "metadata": {
    "vscode": {
     "languageId": "r"
    }
   },
   "outputs": [],
   "source": [
    "# カルマンスムーザーの実行（フォワード + バックワードパス）\n",
    "exp12 <- function(data) {\n",
    "    # パラメータ取得\n",
    "    theta_true <- data$theta_true\n",
    "    y_obs <- data$y_obs\n",
    "    theta_0 <- data$theta_0\n",
    "    V_0 <- data$V_0\n",
    "    a_k <- data$a_k\n",
    "    c_k <- data$c_k\n",
    "    sigma2_v <- data$sigma2_v\n",
    "    sigma2_w <- data$sigma2_w\n",
    "    N <- data$N\n",
    "    \n",
    "    # 推定値格納用\n",
    "    theta_hat <- numeric(N)\n",
    "    V_all <- numeric(N)\n",
    "    X_all <- numeric(N)\n",
    "    \n",
    "    # 初期化\n",
    "    theta_k_1 <- theta_0\n",
    "    V_k_1 <- V_0\n",
    "    \n",
    "    # === フォワードパス: Kalmanフィルタによる推定 ===\n",
    "    for (k in 1:N) {\n",
    "        kalman_result <- update_kalman_filter(theta_k_1, V_k_1, y_obs[k], a_k, c_k, sigma2_v, sigma2_w)\n",
    "        theta_hat[k] <- kalman_result$theta_k\n",
    "        V_all[k] <- kalman_result$V_k\n",
    "        X_all[k] <- kalman_result$X_k\n",
    "        V_k_1 <- kalman_result$V_k\n",
    "        theta_k_1 <- kalman_result$theta_k\n",
    "    }\n",
    "    \n",
    "    # === バックワードパス: Kalmanスムーザーによる修正 ===\n",
    "    theta_smooth <- numeric(N)\n",
    "    V_smooth <- numeric(N)\n",
    "    \n",
    "    # 終端条件: θ^s_N = θ_N, V^s_N = V_N\n",
    "    theta_smooth[N] <- theta_hat[N]\n",
    "    V_smooth[N] <- V_all[N]\n",
    "    \n",
    "    # 逆方向に処理\n",
    "    for (k in (N-1):1) {\n",
    "        smoother_result <- update_kalman_smoother(\n",
    "            theta_hat[k],           # フィルタリング結果 θ_k\n",
    "            theta_smooth[k + 1],    # スムージング結果 θ^s_{k+1}\n",
    "            V_all[k],               # フィルタリング誤差共分散 V_k\n",
    "            V_smooth[k + 1],        # スムージング誤差共分散 V^s_{k+1}\n",
    "            X_all[k + 1],           # 予測誤差共分散 X_{k+1}\n",
    "            a_k\n",
    "        )\n",
    "        theta_smooth[k] <- smoother_result$theta_k_s\n",
    "        V_smooth[k] <- smoother_result$V_k_s\n",
    "    }\n",
    "    \n",
    "    # プロット: 真値、フィルタリング結果、スムージング結果を比較\n",
    "    dir.create(\"graphs\", showWarnings = FALSE)\n",
    "    png(\"graphs/task12.png\")\n",
    "    plot(1:N, theta_true, type=\"l\", col=\"red\", lwd=2,\n",
    "         xlab=\"k\", ylab=\"theta\", main=\"Kalman Smoother Estimation (exp12)\",\n",
    "         ylim=range(c(theta_true, theta_hat, theta_smooth)))\n",
    "    lines(1:N, theta_smooth, col=\"green\", lwd=2)\n",
    "    legend(\"topright\", \n",
    "           legend=c(\"True theta_k\", \"Smoothed theta^s_k\"), \n",
    "           col=c(\"red\", \"green\"), lty=c(1, 1), lwd=2)\n",
    "    dev.off()\n",
    "    \n",
    "    # 結果の一部を表示\n",
    "    cat(\"\\nexp12: Kalman Smoother (Forward + Backward Pass)\\n\")\n",
    "    cat(\"mmse:\", mean((theta_true - theta_smooth)^2), \"\\n\")\n",
    "    \n",
    "    # 結果を返す\n",
    "    return(list(\n",
    "        theta_hat = theta_hat,\n",
    "        theta_smooth = theta_smooth,\n",
    "        V_all = V_all,\n",
    "        V_smooth = V_smooth\n",
    "    ))\n",
    "}"
   ]
  },
  {
   "cell_type": "code",
   "execution_count": 69,
   "id": "7f628d6c",
   "metadata": {
    "vscode": {
     "languageId": "r"
    }
   },
   "outputs": [
    {
     "name": "stdout",
     "output_type": "stream",
     "text": [
      "exp11: Kalman Filter (Forward Pass Only)\n",
      "mmse: 0.1763801 \n",
      "\n",
      "exp12: Kalman Smoother (Forward + Backward Pass)\n",
      "mmse: 0.1533145 \n",
      "\n",
      "exp12: Kalman Smoother (Forward + Backward Pass)\n",
      "mmse: 0.1533145 \n"
     ]
    }
   ],
   "source": [
    "# 同じデータを使ってexp11とexp12を実行\n",
    "# データ生成（乱数シード固定で再現性を確保）\n",
    "kalman_data <- generate_kalman_data(seed = 123, N = 100, a_k = 0.9, c_k = 2, sigma2_v = 1, sigma2_w = 1)\n",
    "\n",
    "# exp11: カルマンフィルタ（フォワードパスのみ）\n",
    "result11 <- exp11(kalman_data)\n",
    "\n",
    "# exp12: カルマンスムーザー（フォワード + バックワードパス）\n",
    "result12 <- exp12(kalman_data)"
   ]
  },
  {
   "cell_type": "code",
   "execution_count": null,
   "id": "58594c4d",
   "metadata": {
    "vscode": {
     "languageId": "r"
    }
   },
   "outputs": [],
   "source": []
  }
 ],
 "metadata": {
  "kernelspec": {
   "display_name": "R",
   "language": "R",
   "name": "ir"
  },
  "language_info": {
   "codemirror_mode": "r",
   "file_extension": ".r",
   "mimetype": "text/x-r-source",
   "name": "R",
   "pygments_lexer": "r",
   "version": "4.5.1"
  }
 },
 "nbformat": 4,
 "nbformat_minor": 5
}
