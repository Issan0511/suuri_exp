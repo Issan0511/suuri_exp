{
 "cells": [
  {
   "cell_type": "code",
   "execution_count": 27,
   "id": "ad1ecea8",
   "metadata": {
    "vscode": {
     "languageId": "r"
    }
   },
   "outputs": [
    {
     "name": "stdout",
     "output_type": "stream",
     "text": [
      "       [,1]\n",
      "x1 1.506551\n",
      "x2 1.997696\n",
      "              x1            x2\n",
      "x1  9.866491e-05 -4.081657e-07\n",
      "x2 -4.081657e-07  1.005248e-04\n",
      "[1] 0.8629734\n"
     ]
    }
   ],
   "source": [
    "\n",
    "\n",
    "data <- read.csv(\"datas/mmse_kadai1.csv\", header=FALSE,col.names = c(\"x1\",\"x2\",\"y\"))\n",
    "x <- as.matrix(data[,c(\"x1\",\"x2\")])\n",
    "y <- as.matrix(data[,\"y\"])\n",
    "\n",
    "regression_simple <- function(x, y){\n",
    "\n",
    "    theta_hat <- solve(t(x) %*% x) %*% t(x) %*% y\n",
    "    sigma2_hat <- sum((y - x %*% theta_hat)^2) / (nrow(x) - ncol(x))\n",
    "    err_cov_mat <- sigma2_hat * solve(t(x) %*% x)\n",
    "    det_coef <- sum((mean(y) - x %*% theta_hat)^2) / sum((y - mean(y))^2)\n",
    "    return(list(theta_hat = theta_hat, err_cov_mat = err_cov_mat, det_coef = det_coef))\n",
    "}\n",
    "\n",
    "\n",
    "exp1 <- function (x, y,n){\n",
    "    x <- x[1:n,]\n",
    "    y <- y[1:n,]\n",
    "    result <- regression_simple(x, y)\n",
    "    theta_hat <- result$theta_hat\n",
    "    err_cov_mat <- result$err_cov_mat    \n",
    "    det_coef <- result$det_coef\n",
    "    return(list(theta_hat = theta_hat, err_cov_mat = err_cov_mat, det_coef = det_coef))\n",
    "}\n",
    "N_max <- nrow(x)\n",
    "print (exp1(x, y, N_max)$theta_hat)\n",
    "print (exp1(x, y, N_max)$err_cov_mat)\n",
    "plot_exp1 <- function(x, y){\n",
    "    ns <- c(2,4,8,16,32,64,128,256,512,1024,2048,4096,8192)\n",
    "    #ˆθN の各要素が収束していくことを片対数グラフでプロット,1つの図にまとめる\n",
    "    theta_hats <- matrix(0, nrow=length(ns), ncol=ncol(x))\n",
    "    for (i in 1:length(ns)){\n",
    "        n <- ns[i]\n",
    "        result <- exp1(x, y, n)\n",
    "        theta_hats[i, ] <- as.vector(result$theta_hat)  \n",
    "    # matplot(ns, theta_hats, type=\"b\", log=\"x\", xlab=\"n\", ylab=\"theta_hat\", main=\"Convergence of theta_hat\")\n",
    "    png(\"graphs/task1.png\")\n",
    "    matplot(ns, theta_hats, type=\"b\", log=\"x\", xlab=\"n\", ylab=\"theta_hat\", main=\"Convergence of theta_hat\")\n",
    "    dev.off()\n",
    "    }\n",
    "}\n",
    "plot_exp1(x, y)\n",
    "print(exp1(x, y, N_max)$det_coef)"
   ]
  },
  {
   "cell_type": "code",
   "execution_count": 28,
   "id": "323d8684",
   "metadata": {
    "vscode": {
     "languageId": "r"
    }
   },
   "outputs": [
    {
     "name": "stdout",
     "output_type": "stream",
     "text": [
      "          [,1]\n",
      "x0 -0.50902942\n",
      "    1.97586067\n",
      "    0.19774405\n",
      "   -0.09866691\n",
      "              x0                                          \n",
      "x0  2.023442e-03 -1.186497e-05 -1.348312e-04  3.971165e-07\n",
      "   -1.186497e-05  6.753015e-04 -1.898545e-07 -3.794719e-05\n",
      "   -1.348312e-04 -1.898545e-07  1.603910e-05  6.351820e-08\n",
      "    3.971165e-07 -3.794719e-05  6.351820e-08  2.528711e-06\n",
      "[1] 0.461855\n"
     ]
    },
    {
     "data": {
      "text/html": [
       "<strong>pdf:</strong> 2"
      ],
      "text/latex": [
       "\\textbf{pdf:} 2"
      ],
      "text/markdown": [
       "**pdf:** 2"
      ],
      "text/plain": [
       "pdf \n",
       "  2 "
      ]
     },
     "metadata": {},
     "output_type": "display_data"
    }
   ],
   "source": [
    "data <- read.csv(\"datas/mmse_kadai2.csv\", header=FALSE,col.names = c(\"x1\",\"y\"))\n",
    "x0 <- rep(1, nrow(data))\n",
    "x1 <- as.matrix(data[,c(\"x1\")])\n",
    "x2 <- x1^2\n",
    "x3 <- x1^3\n",
    "x <- cbind(x0, x1, x2, x3)\n",
    "y <- as.matrix(data[,\"y\"])\n",
    "\n",
    "exp2 <- function(x, y, n){\n",
    "    # サンプルサイズ n に制限\n",
    "    x <- x[1:n,]\n",
    "    y <- y[1:n,]\n",
    "\n",
    "    \n",
    "    result <- regression_simple(x, y)\n",
    "    theta_hat <- result$theta_hat\n",
    "    err_cov_mat <- result$err_cov_mat    \n",
    "    det_coef <- result$det_coef\n",
    "    return(list(theta_hat = theta_hat, err_cov_mat = err_cov_mat, det_coef = det_coef))\n",
    "}\n",
    "\n",
    "plot_exp2 <- function(x, y){\n",
    "    ns <- c(4,8,16,32,64,128,256,512,1024,2048,4096,8192)\n",
    "    theta_hats <- matrix(0, nrow=length(ns), ncol=ncol(x))\n",
    "    for (i in 1:length(ns)){\n",
    "        n <- ns[i]\n",
    "        result <- exp2(x, y, n)\n",
    "        theta_hats[i, ] <- as.vector(result$theta_hat)\n",
    "    }\n",
    "    png(\"graphs/task2.png\")\n",
    "    matplot(ns, theta_hats, type=\"b\", log=\"x\", xlab=\"n\", ylab=\"theta_hat\", main=\"Convergence of theta_hat (exp2)\")\n",
    "    dev.off()\n",
    "}\n",
    "\n",
    "N_max <- nrow(x)\n",
    "print(exp2(x, y, N_max)$theta_hat)\n",
    "print(exp2(x, y, N_max)$err_cov_mat)\n",
    "print(exp2(x, y, N_max)$det_coef)\n",
    "plot_exp2(x, y)"
   ]
  },
  {
   "cell_type": "code",
   "execution_count": null,
   "id": "8fefc33b",
   "metadata": {
    "vscode": {
     "languageId": "r"
    }
   },
   "outputs": [
    {
     "name": "stdout",
     "output_type": "stream",
     "text": [
      "       [,1]\n",
      "x1 2.373074\n",
      "x2 1.537311\n",
      "             x1           x2\n",
      "x1  9.234588215 -0.003642121\n",
      "x2 -0.003642121  9.264075136\n",
      "[1] 0.0002841468\n"
     ]
    },
    {
     "data": {
      "text/html": [
       "<strong>pdf:</strong> 2"
      ],
      "text/latex": [
       "\\textbf{pdf:} 2"
      ],
      "text/markdown": [
       "**pdf:** 2"
      ],
      "text/plain": [
       "pdf \n",
       "  2 "
      ]
     },
     "metadata": {},
     "output_type": "display_data"
    }
   ],
   "source": [
    "# ==== exp3: mmse_kadai3.csv 用 ====\n",
    "# データ読込（x1, y）\n",
    "data3 <- read.csv(\"datas/mmse_kadai3.csv\", header = FALSE, col.names = c(\"x1\",\"x2\",\"y\"))\n",
    "\n",
    "# 特徴量設計: x1,x2,y\n",
    "x <- as.matrix(data3[,c(\"x1\",\"x2\")])\n",
    "y <- as.matrix(data3[,\"y\"])\n",
    "\n",
    "# 回帰器（exp2と同一ロジック）\n",
    "exp3 <- function(x, y, n){\n",
    "    x <- x[1:n, , drop=FALSE]\n",
    "    y <- y[1:n, , drop=FALSE]\n",
    "\n",
    "    result <- regression_simple(x, y)\n",
    "    theta_hat <- result$theta_hat\n",
    "    err_cov_mat <- result$err_cov_mat    \n",
    "    det_coef <- result$det_coef\n",
    "\n",
    "    list(theta_hat = theta_hat, err_cov_mat = err_cov_mat, det_coef = det_coef)\n",
    "}\n",
    "\n",
    "# 収束プロット\n",
    "plot_exp3 <- function(x, y){\n",
    "    ns <- c(2,4,8,16,32,64,128,256,512,1024,2048,4096,8192)\n",
    "    ns <- ns[ns <= nrow(x)]  # データ数を超えないように制限\n",
    "    theta_hats <- matrix(0, nrow=length(ns), ncol=ncol(x))\n",
    "    for (i in seq_along(ns)){\n",
    "        n <- ns[i]\n",
    "        res <- exp3(x, y, n)\n",
    "        theta_hats[i, ] <- as.vector(res$theta_hat)\n",
    "    }\n",
    "    dir.create(\"graphs\", showWarnings = FALSE)\n",
    "    png(\"graphs/task3.png\")\n",
    "    matplot(ns, theta_hats, type=\"b\", log=\"x\",\n",
    "            xlab=\"n\", ylab=\"theta_hat\",\n",
    "            main=\"Convergence of theta_hat (exp3)\")\n",
    "    dev.off()\n",
    "}\n",
    "\n",
    "# 実行例\n",
    "N_max <- nrow(x)\n",
    "print(exp3(x, y, N_max)$theta_hat)\n",
    "print(exp3(x, y, N_max)$err_cov_mat)\n",
    "print(exp3(x, y, N_max)$det_coef)\n",
    "plot_exp3(x, y)\n"
   ]
  },
  {
   "cell_type": "code",
   "execution_count": 30,
   "id": "60026f64",
   "metadata": {
    "vscode": {
     "languageId": "r"
    }
   },
   "outputs": [
    {
     "name": "stdout",
     "output_type": "stream",
     "text": [
      "         [,1]\n",
      "x0 -0.5777248\n",
      "    2.0968228\n",
      "   -0.3950467\n",
      "    0.5491249\n",
      "           x0                                 \n",
      "x0  0.1532437  -1.148751   2.296352  -1.338869\n",
      "   -1.1487510  11.458867 -25.752415  16.010391\n",
      "    2.2963524 -25.752415  61.720073 -39.966014\n",
      "   -1.3388695  16.010391 -39.966014  26.617392\n",
      "[1] 0.04084128\n"
     ]
    }
   ],
   "source": [
    "data <- read.csv(\"datas/mmse_kadai4.csv\", header=FALSE, col.names = c(\"x1\",\"y\"))\n",
    "x0 <- rep(1, nrow(data))\n",
    "x1 <- as.matrix(data[,c(\"x1\")])\n",
    "x2 <- x1^2\n",
    "x3 <- x1^3\n",
    "x <- cbind(x0, x1, x2, x3)\n",
    "y <- as.matrix(data[,\"y\"])\n",
    "\n",
    "exp4 <- function(x, y, n){\n",
    "    # サンプルサイズ n に制限\n",
    "    x <- x[1:n, , drop=FALSE]\n",
    "    y <- y[1:n, , drop=FALSE]\n",
    "    result <- regression_simple(x, y)\n",
    "    list(\n",
    "        theta_hat = result$theta_hat,\n",
    "        err_cov_mat = result$err_cov_mat,\n",
    "        det_coef = result$det_coef\n",
    "    )\n",
    "}\n",
    "\n",
    "# plot_exp4 <- function(x, y){\n",
    "#     ns <- c(8,16,32,64,128,256,512,1024,2048,4096,8192)\n",
    "#     ns <- ns[ns <= nrow(x)]  # データ数を超えないように制限\n",
    "#     theta_hats <- matrix(0, nrow=length(ns), ncol=ncol(x))\n",
    "#     for (i in 1:length(ns)){\n",
    "#         n <- ns[i]\n",
    "#         result <- exp4(x, y, n)\n",
    "#         theta_hats[i, ] <- as.vector(result$theta_hat)\n",
    "#     }\n",
    "#     dir.create(\"graphs\", showWarnings = FALSE)\n",
    "#     png(\"graphs/task4.png\")\n",
    "#     matplot(ns, theta_hats, type=\"b\", log=\"x\", xlab=\"n\", ylab=\"theta_hat\",\n",
    "#             main=\"Convergence of theta_hat (exp4)\")\n",
    "#     dev.off()\n",
    "# }\n",
    "\n",
    "N_max <- nrow(x)\n",
    "print(exp4(x, y, N_max)$theta_hat)\n",
    "print(exp4(x, y, N_max)$err_cov_mat)\n",
    "print(exp4(x, y, N_max)$det_coef)\n",
    "# plot_exp4(x, y)"
   ]
  },
  {
   "cell_type": "code",
   "execution_count": 49,
   "id": "cf234aef",
   "metadata": {
    "vscode": {
     "languageId": "r"
    }
   },
   "outputs": [],
   "source": [
    "regression_multiple <- function(x, y, V = NULL,Q = NULL){\n",
    "    # x: m×m行列のn個の配列　\n",
    "    # y: n×m行列\n",
    "    n <- nrow(y)\n",
    "    m <- ncol(y)\n",
    "    if (is.null(V)) {\n",
    "        # 重みなしならm×mの単位行列\n",
    "        V <- diag(m)\n",
    "    }\n",
    "    if (is.null(Q)) {\n",
    "        Q <- solve(V)\n",
    "    }\n",
    "    S <- matrix(0,2,2)\n",
    "    b <- matrix(0,2,1)\n",
    "    T <- matrix(0,2,2)\n",
    "    for (i in 1:n){\n",
    "        \n",
    "        xi <- x[,,i]\n",
    "        yi <- matrix(c(y[i, ]), nrow=1)\n",
    "        yi <- t(yi)\n",
    "\n",
    "        S <- S + t(xi) %*% Q %*% xi\n",
    "        b <- b + t(xi) %*% Q %*% yi\n",
    "        T <- T + t(xi) %*% V %*% xi\n",
    "    }\n",
    "    theta_hat <- solve(S) %*% b\n",
    "    err_cov_mat <- solve(S) %*% T %*% solve(S)\n",
    "    return(list(theta_hat = theta_hat, err_cov_mat = err_cov_mat))\n",
    "}"
   ]
  },
  {
   "cell_type": "code",
   "execution_count": 61,
   "id": "ead2d458",
   "metadata": {
    "vscode": {
     "languageId": "r"
    }
   },
   "outputs": [
    {
     "name": "stdout",
     "output_type": "stream",
     "text": [
      "[1] \"OLS results:\"\n",
      "          [,1]\n",
      "[1,]  2.994567\n",
      "[2,] -2.068971\n",
      "              [,1]          [,2]\n",
      "[1,]  0.0005762102 -0.0001504078\n",
      "[2,] -0.0001504078  0.0002968433\n"
     ]
    },
    {
     "data": {
      "text/html": [
       "<strong>pdf:</strong> 2"
      ],
      "text/latex": [
       "\\textbf{pdf:} 2"
      ],
      "text/markdown": [
       "**pdf:** 2"
      ],
      "text/plain": [
       "pdf \n",
       "  2 "
      ]
     },
     "metadata": {},
     "output_type": "display_data"
    },
    {
     "name": "stdout",
     "output_type": "stream",
     "text": [
      "[1] \"WLS results:\"\n",
      "          [,1]\n",
      "[1,]  2.939084\n",
      "[2,] -1.986465\n",
      "            [,1]        [,2]\n",
      "[1,]  0.23999299 -0.09665406\n",
      "[2,] -0.09665406  0.04991260\n"
     ]
    },
    {
     "data": {
      "text/html": [
       "<strong>pdf:</strong> 2"
      ],
      "text/latex": [
       "\\textbf{pdf:} 2"
      ],
      "text/markdown": [
       "**pdf:** 2"
      ],
      "text/plain": [
       "pdf \n",
       "  2 "
      ]
     },
     "metadata": {},
     "output_type": "display_data"
    }
   ],
   "source": [
    "data <- read.csv(\"datas/mmse_kadai5.csv\", header=FALSE, col.names = c(\"x12\",\"y1\",\"y2\"))\n",
    "x11 <- rep(1, nrow(data))\n",
    "x12 <- as.matrix(data[,\"x12\"])\n",
    "x21 <- rep(1, nrow(data))\n",
    "x22 <- x12^2\n",
    "m <- nrow(data)\n",
    "x <- array(0, dim = c(2, 2, m))\n",
    "for (i in 1:m) {\n",
    "    x[,,i] <- matrix(c(x11[i], x12[i], x21[i], x22[i]), nrow = 2, byrow = TRUE)\n",
    "}\n",
    "y <- as.matrix(data[,c(\"y1\",\"y2\")])\n",
    "N_max <- dim(x)[3]\n",
    "\n",
    "exp5 <- function(x, y, n, method = \"ols\", V = matrix(c(100,0,0,1), 2, 2)){\n",
    "    x <- x[,,1:n]\n",
    "    y <- y[1:n, , drop=FALSE]\n",
    "    \n",
    "    if (method == \"ols\") {\n",
    "        result <- regression_multiple(x, y)\n",
    "    } else if (method == \"wls\") {\n",
    "        result <- regression_multiple(x, y, V)\n",
    "    }\n",
    "    list(\n",
    "        theta_hat = result$theta_hat,\n",
    "        err_cov_mat = result$err_cov_mat\n",
    "    )\n",
    "}\n",
    "\n",
    "plot_exp5 <- function(x, y, method = \"ols\", V = matrix(c(100,0,0,1), 2, 2)){\n",
    "    ns <- c(4,8,16,32,64,128,256,512,1000)\n",
    "    ns <- ns[ns <= dim(x)[3]]\n",
    "    theta_hats <- matrix(0, nrow=length(ns), ncol=nrow(x[,,1]))\n",
    "    for (i in seq_along(ns)){\n",
    "        n <- ns[i]\n",
    "        res <- exp5(x, y, n, method, V)\n",
    "        theta_hats[i, ] <- as.vector(res$theta_hat)\n",
    "    }\n",
    "    dir.create(\"graphs\", showWarnings = FALSE)\n",
    "    png(paste0(\"graphs/task5_\", method, \".png\"))\n",
    "    matplot(ns, theta_hats, type=\"b\", log=\"x\",\n",
    "            xlab=\"n\", ylab=\"theta_hat\",\n",
    "            main=paste(\"Convergence of theta_hat (exp5 -\", method, \")\"))\n",
    "    dev.off()\n",
    "}\n",
    "print (\"OLS results:\")\n",
    "print(exp5(x, y, N_max, \"ols\")$theta_hat)\n",
    "print(exp5(x, y, N_max, \"ols\")$err_cov_mat)\n",
    "plot_exp5(x, y, \"ols\")\n",
    "print (\"WLS results:\")\n",
    "print(exp5(x, y, N_max, \"wls\")$theta_hat)\n",
    "print(exp5(x, y, N_max, \"wls\")$err_cov_mat)\n",
    "plot_exp5(x, y, \"wls\")"
   ]
  },
  {
   "cell_type": "code",
   "execution_count": null,
   "id": "83dc8f1e",
   "metadata": {
    "vscode": {
     "languageId": "r"
    }
   },
   "outputs": [],
   "source": []
  }
 ],
 "metadata": {
  "kernelspec": {
   "display_name": "R",
   "language": "R",
   "name": "ir"
  },
  "language_info": {
   "codemirror_mode": "r",
   "file_extension": ".r",
   "mimetype": "text/x-r-source",
   "name": "R",
   "pygments_lexer": "r",
   "version": "4.5.1"
  }
 },
 "nbformat": 4,
 "nbformat_minor": 5
}
